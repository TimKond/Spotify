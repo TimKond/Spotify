{
 "cells": [
  {
   "attachments": {},
   "cell_type": "markdown",
   "metadata": {},
   "source": [
    "### Get 1h temporary access_token"
   ]
  },
  {
   "cell_type": "code",
   "execution_count": 1,
   "metadata": {},
   "outputs": [
    {
     "name": "stderr",
     "output_type": "stream",
     "text": [
      "c:\\Users\\Tim\\AppData\\Local\\Programs\\Python\\Python38\\lib\\site-packages\\requests\\__init__.py:78: RequestsDependencyWarning: urllib3 (1.26.12) or chardet (3.0.4) doesn't match a supported version!\n",
      "  warnings.warn(\"urllib3 ({0}) or chardet ({1}) doesn't match a supported \"\n"
     ]
    }
   ],
   "source": [
    "import requests, base64, json, re\n",
    "client_id = \"897e6482239c46b89683f64d01a80570\"\n",
    "client_secret = input()"
   ]
  },
  {
   "cell_type": "code",
   "execution_count": 2,
   "metadata": {},
   "outputs": [],
   "source": [
    "res = requests.post(url=\"https://accounts.spotify.com/api/token\",\n",
    "                    headers={\n",
    "                        'Authorization': 'Basic ' + base64.b64encode(str.encode(client_id + \":\" + client_secret)).decode(),\n",
    "                        \"Content-Type\": \"application/x-www-form-urlencoded\"\n",
    "                    },\n",
    "                    data={\n",
    "                        \"grant_type\": \"client_credentials\"\n",
    "                    })\n",
    "res.text\n",
    "access_token = eval(res.text)[\"access_token\"]"
   ]
  },
  {
   "attachments": {},
   "cell_type": "markdown",
   "metadata": {},
   "source": [
    "## download list of Playlists to fetch content from"
   ]
  },
  {
   "cell_type": "code",
   "execution_count": 3,
   "metadata": {},
   "outputs": [],
   "source": [
    "# search for playlists matching \"Top Hits of ****\"\n",
    "from urllib import parse\n",
    "playlists = []\n",
    "for year in range(1970, 2023, 1):\n",
    "  name = \"Top Hits of \" + str(year)\n",
    "  name_2 = \"Top Tracks of \" + str(year)\n",
    "  q = requests.get(url=\"https://api.spotify.com/v1/search\",\n",
    "                headers = {\"Authorization\": \"Bearer \" + access_token},\n",
    "                params={\n",
    "                  \"q\": \"name:\" + name,\n",
    "                  \"type\": \"playlist\",\n",
    "                  \"market\": \"US\",\n",
    "                  \"limit\": 10,\n",
    "                  \"offset\": 0\n",
    "                })\n",
    "\n",
    "  j = json.loads(q.text)\n",
    "  for found_playlist in j[\"playlists\"][\"items\"]:\n",
    "      if found_playlist[\"name\"] == name or found_playlist[\"name\"] == name_2:\n",
    "          if found_playlist[\"owner\"][\"id\"] == \"spotify\":\n",
    "            id = re.search(\"playlists\\/(\\w{22})\", found_playlist[\"href\"]).group(1)\n",
    "            title = found_playlist[\"name\"]\n",
    "            playlists.append((id, title))"
   ]
  },
  {
   "cell_type": "code",
   "execution_count": 4,
   "metadata": {},
   "outputs": [
    {
     "data": {
      "text/plain": [
       "51"
      ]
     },
     "execution_count": 4,
     "metadata": {},
     "output_type": "execute_result"
    }
   ],
   "source": [
    "len(playlists)"
   ]
  },
  {
   "cell_type": "code",
   "execution_count": 6,
   "metadata": {},
   "outputs": [
    {
     "data": {
      "text/plain": [
       "[('37i9dQZF1DWTE7dVUebpUW', 'Top Hits of 2017'),\n",
       " ('37i9dQZF1DXe2bobNYDtW8', 'Top Hits of 2018'),\n",
       " ('37i9dQZF1DWVRSukIED0e9', 'Top Hits of 2019'),\n",
       " ('37i9dQZF1DX7Jl5KP2eZaS', 'Top Tracks of 2020')]"
      ]
     },
     "execution_count": 6,
     "metadata": {},
     "output_type": "execute_result"
    }
   ],
   "source": [
    "playlists[-4:] # nothing after 2020 found"
   ]
  },
  {
   "attachments": {},
   "cell_type": "markdown",
   "metadata": {},
   "source": [
    "# Get Songs and Features from Playlists"
   ]
  },
  {
   "cell_type": "code",
   "execution_count": 7,
   "metadata": {},
   "outputs": [],
   "source": [
    "track_ids = []\n",
    "for playlist in playlists:\n",
    "  q = requests.get(url=\"https://api.spotify.com/v1/playlists/\" + playlist[0] + \"/tracks\",\n",
    "                #headers = h,\n",
    "                headers = {\"Authorization\": \"Bearer \" + access_token},\n",
    "                params={\n",
    "                  \"fields\": \"items(track.href)\",\n",
    "                  #\"market\": \"US\",\n",
    "                  #\"limit\": 100, # check if any playlist has more than 100! increase!\n",
    "                  \"offset\": 0\n",
    "                })\n",
    "  j = json.loads(q.text)\n",
    "  for track in j[\"items\"]:\n",
    "      id = re.search(\"tracks\\/(\\w{22})\", track[\"track\"][\"href\"]).group(1)\n",
    "      track_ids.append(id)"
   ]
  },
  {
   "cell_type": "code",
   "execution_count": 8,
   "metadata": {},
   "outputs": [
    {
     "data": {
      "text/plain": [
       "5050"
      ]
     },
     "execution_count": 8,
     "metadata": {},
     "output_type": "execute_result"
    }
   ],
   "source": [
    "len(track_ids)"
   ]
  },
  {
   "cell_type": "code",
   "execution_count": 9,
   "metadata": {},
   "outputs": [],
   "source": [
    "tracks = []\n",
    "for id in track_ids:\n",
    "    # Get basic data\n",
    "    q_main = requests.get(url=\"https://api.spotify.com/v1/tracks/\" + id,\n",
    "        #headers = h,\n",
    "        headers = {\"Authorization\": \"Bearer \" + access_token},\n",
    "        # params={\n",
    "        #   \"market\": \"US\",\n",
    "        # }\n",
    "        )\n",
    "    j_main = json.loads(q_main.text)\n",
    "    # with open(\"data/\" + str(id) + '.json', 'w') as f:\n",
    "    #     json.dump(j, f)\n",
    "    # with open(\"data/\" + str(id) + '.json', 'w', encoding='utf-8') as f:\n",
    "    #     json.dump(j_main, f, ensure_ascii=False, indent=4)\n",
    "\n",
    "    # get track audio features\n",
    "    q_features = requests.get(url=\"https://api.spotify.com/v1/audio-features/\" + id,\n",
    "        #headers = h,\n",
    "        headers = {\"Authorization\": \"Bearer \" + access_token},\n",
    "        # params={\n",
    "        #   \"market\": \"US\",\n",
    "        # }\n",
    "        )\n",
    "    j_features = json.loads(q_features.text)\n",
    "    # with open(\"data/\" + str(id) + '.json', 'w') as f:\n",
    "    #     json.dump(j, f)\n",
    "    data_combined = {**j_main,**j_features}\n",
    "    with open(\"data/\" + str(id) + '.json', 'w', encoding='utf-8') as f:\n",
    "        json.dump(data_combined, f, ensure_ascii=False, indent=4)"
   ]
  }
 ],
 "metadata": {
  "kernelspec": {
   "display_name": "Python 3",
   "language": "python",
   "name": "python3"
  },
  "language_info": {
   "codemirror_mode": {
    "name": "ipython",
    "version": 3
   },
   "file_extension": ".py",
   "mimetype": "text/x-python",
   "name": "python",
   "nbconvert_exporter": "python",
   "pygments_lexer": "ipython3",
   "version": "3.8.0"
  },
  "orig_nbformat": 4
 },
 "nbformat": 4,
 "nbformat_minor": 2
}
